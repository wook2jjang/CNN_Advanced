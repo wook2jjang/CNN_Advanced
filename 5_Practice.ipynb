{
 "cells": [
  {
   "cell_type": "code",
   "execution_count": 1,
   "id": "9190d9d4",
   "metadata": {},
   "outputs": [],
   "source": [
    "# !pip install torchsummary"
   ]
  },
  {
   "cell_type": "markdown",
   "id": "2faa7399",
   "metadata": {},
   "source": [
    "# 과제"
   ]
  },
  {
   "cell_type": "markdown",
   "id": "18d6a066",
   "metadata": {},
   "source": [
    "<span style = 'font-size:1.3em;line-height:1.5em'><b>1. </b>실습파일 '3_Transfer_Learning.ipynb'에서 활용한 데이터로 Resnet18모델에 대해서 transfer learning을 수행해보세요. 단, 동일한 실습파일에서 수행한 방식처럼 마지막 fc layer에 대해서만 fine-tuning하는 방식으로 수행해보세요.</span>"
   ]
  },
  {
   "cell_type": "code",
   "execution_count": 2,
   "id": "91c3493f",
   "metadata": {},
   "outputs": [],
   "source": [
    "import os, time, copy\n",
    "import torch\n",
    "import torch.nn as nn\n",
    "import torch.optim as optim\n",
    "\n",
    "import numpy as np\n",
    "import torchvision\n",
    "\n",
    "from torch.utils.data import DataLoader, SubsetRandomSampler\n",
    "from torch.optim import lr_scheduler\n",
    "from torchvision import datasets, models, transforms\n",
    "from torchvision.datasets.folder import ImageFolder\n",
    "from torchvision.models import resnet18\n",
    "\n",
    "import matplotlib.pyplot as plt\n",
    "from torchsummary import summary\n",
    "%matplotlib inline"
   ]
  },
  {
   "cell_type": "code",
   "execution_count": null,
   "id": "ebe87990",
   "metadata": {},
   "outputs": [],
   "source": []
  }
 ],
 "metadata": {
  "kernelspec": {
   "display_name": "Python 3 (ipykernel)",
   "language": "python",
   "name": "python3"
  },
  "language_info": {
   "codemirror_mode": {
    "name": "ipython",
    "version": 3
   },
   "file_extension": ".py",
   "mimetype": "text/x-python",
   "name": "python",
   "nbconvert_exporter": "python",
   "pygments_lexer": "ipython3",
   "version": "3.9.12"
  }
 },
 "nbformat": 4,
 "nbformat_minor": 5
}
